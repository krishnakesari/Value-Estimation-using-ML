{
 "cells": [
  {
   "cell_type": "code",
   "execution_count": 1,
   "metadata": {},
   "outputs": [],
   "source": [
    "import pandas as pd\n",
    "import numpy as np\n",
    "import sklearn\n",
    "\n",
    "from sklearn.model_selection import train_test_split\n",
    "from sklearn import ensemble\n",
    "from sklearn.metrics import mean_absolute_error\n",
    "\n",
    "import joblib\n",
    "from joblib import dump, load"
   ]
  },
  {
   "cell_type": "code",
   "execution_count": 2,
   "metadata": {},
   "outputs": [],
   "source": [
    "df = pd.read_csv(\"ml_house_data_set.csv\")"
   ]
  },
  {
   "cell_type": "code",
   "execution_count": 3,
   "metadata": {},
   "outputs": [
    {
     "output_type": "execute_result",
     "data": {
      "text/plain": "Index(['year_built', 'stories', 'num_bedrooms', 'full_bathrooms',\n       'half_bathrooms', 'livable_sqft', 'total_sqft', 'garage_type',\n       'garage_sqft', 'carport_sqft', 'has_fireplace', 'has_pool',\n       'has_central_heating', 'has_central_cooling', 'house_number',\n       'street_name', 'unit_number', 'city', 'zip_code', 'sale_price'],\n      dtype='object')"
     },
     "metadata": {},
     "execution_count": 3
    }
   ],
   "source": [
    "df.columns"
   ]
  },
  {
   "cell_type": "code",
   "execution_count": 4,
   "metadata": {},
   "outputs": [],
   "source": [
    "# Removing the fields not needed\n",
    "del df['house_number']\n",
    "del df['unit_number']\n",
    "del df['street_name']\n",
    "del df['zip_code']"
   ]
  },
  {
   "cell_type": "code",
   "execution_count": 5,
   "metadata": {},
   "outputs": [
    {
     "output_type": "execute_result",
     "data": {
      "text/plain": "Index(['year_built', 'stories', 'num_bedrooms', 'full_bathrooms',\n       'half_bathrooms', 'livable_sqft', 'total_sqft', 'garage_type',\n       'garage_sqft', 'carport_sqft', 'has_fireplace', 'has_pool',\n       'has_central_heating', 'has_central_cooling', 'city', 'sale_price'],\n      dtype='object')"
     },
     "metadata": {},
     "execution_count": 5
    }
   ],
   "source": [
    "df.columns"
   ]
  },
  {
   "cell_type": "code",
   "execution_count": 6,
   "metadata": {},
   "outputs": [],
   "source": [
    "# Replacing Categorical data with one-hot encoded data\n",
    "features_df = pd.get_dummies(df, columns=['garage_type', 'city'])"
   ]
  },
  {
   "cell_type": "code",
   "execution_count": 7,
   "metadata": {},
   "outputs": [],
   "source": [
    "# Making an matrix of X and y\n",
    "X = features_df.values\n",
    "y = features_df['sale_price'].values"
   ]
  },
  {
   "cell_type": "code",
   "execution_count": 8,
   "metadata": {},
   "outputs": [
    {
     "output_type": "execute_result",
     "data": {
      "text/plain": "array([ 270897.,  302404., 2519996., ...,   98280.,   98278.,  186480.])"
     },
     "metadata": {},
     "execution_count": 8
    }
   ],
   "source": [
    "y"
   ]
  },
  {
   "cell_type": "code",
   "execution_count": 9,
   "metadata": {},
   "outputs": [],
   "source": [
    "## Split the data into training set (70%) and test set (30%)\n",
    "X_train, X_test, y_train, y_test = train_test_split(X, y, test_size = 0.3)"
   ]
  },
  {
   "cell_type": "code",
   "execution_count": 10,
   "metadata": {},
   "outputs": [
    {
     "output_type": "execute_result",
     "data": {
      "text/plain": "GradientBoostingRegressor(loss='huber', max_depth=6, max_features=0.1,\n                          min_samples_leaf=9, n_estimators=1000,\n                          random_state=0)"
     },
     "metadata": {},
     "execution_count": 10
    }
   ],
   "source": [
    "# Fit the regression model (Value Prediction)\n",
    "model = ensemble.GradientBoostingRegressor(\n",
    "        n_estimators= 1000, # How many decision trees to build\n",
    "        learning_rate=0.1, # How much each descision tree influence prediction \n",
    "        max_depth=6, # How many layers deep \n",
    "        min_samples_leaf=9, # At least 9 houses should exhibit same properties or how many times a value should appear (this is helpful in eliminating outliers)\n",
    "        max_features=0.1, # % of features we randomly choose to build model\n",
    "        loss='huber', # calucluating model's error rate or cost function \n",
    "        random_state = 0 \n",
    ")\n",
    "\n",
    "model.fit(X_train, y_train)"
   ]
  },
  {
   "cell_type": "code",
   "execution_count": 11,
   "metadata": {},
   "outputs": [
    {
     "output_type": "execute_result",
     "data": {
      "text/plain": "['trained_house_classifier_model.pkl']"
     },
     "metadata": {},
     "execution_count": 11
    }
   ],
   "source": [
    "# Saving the trained model to a file so we can use it in other programs\n",
    "joblib.dump(model, 'trained_house_classifier_model.pkl')"
   ]
  },
  {
   "cell_type": "code",
   "execution_count": 12,
   "metadata": {},
   "outputs": [
    {
     "output_type": "stream",
     "name": "stdout",
     "text": "Training Set Mean Absolute Error: 7212.7038\n"
    }
   ],
   "source": [
    "# Find the error rate on the training set (On average how wrong is our prediction model)\n",
    "mse = mean_absolute_error(y_train, model.predict(X_train))\n",
    "print(\"Training Set Mean Absolute Error: %.4f\" % mse)"
   ]
  },
  {
   "cell_type": "code",
   "execution_count": 13,
   "metadata": {},
   "outputs": [
    {
     "output_type": "stream",
     "name": "stdout",
     "text": "Test Set Mean Absolute Error:  10272.3201\n"
    }
   ],
   "source": [
    "# Find the error rate on the test set \n",
    "mse = mean_absolute_error(y_test, model.predict(X_test))\n",
    "print(\"Test Set Mean Absolute Error:  %.4f\" % mse)"
   ]
  }
 ],
 "metadata": {
  "language_info": {
   "codemirror_mode": {
    "name": "ipython",
    "version": 3
   },
   "file_extension": ".py",
   "mimetype": "text/x-python",
   "name": "python",
   "nbconvert_exporter": "python",
   "pygments_lexer": "ipython3",
   "version": "3.8.2-final"
  },
  "orig_nbformat": 2,
  "kernelspec": {
   "name": "python38264bitfeaae0ea38f749759f7aabe755a2e156",
   "display_name": "Python 3.8.2 64-bit"
  }
 },
 "nbformat": 4,
 "nbformat_minor": 2
}