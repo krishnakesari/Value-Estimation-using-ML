import pandas as pd

df = pd.read_csv("ml_house_data_set.csv")

# Remove features not needed
del df['house_number']
del df['unit_number']